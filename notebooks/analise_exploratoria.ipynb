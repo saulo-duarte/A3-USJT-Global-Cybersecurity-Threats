{
 "cells": [
  {
   "cell_type": "markdown",
   "metadata": {},
   "source": [
    "# **Projeto Acidentes em Rodovias Federais**"
   ]
  },
  {
   "cell_type": "markdown",
   "metadata": {},
   "source": [
    "##### Notebook Destinado a limpeza de dados"
   ]
  },
  {
   "cell_type": "code",
   "execution_count": 1,
   "metadata": {},
   "outputs": [],
   "source": [
    "import pandas as pd\n",
    "import numpy as np \n",
    "import seaborn as sns\n",
    "import matplotlib.pyplot as plt\n",
    "import warnings\n",
    "import statsmodels.api as sm\n"
   ]
  },
  {
   "cell_type": "code",
   "execution_count": 2,
   "metadata": {},
   "outputs": [],
   "source": [
    "df = pd.read_csv(\"../data/datatran2018.csv\", encoding='iso-8859-1', delimiter=\";\")"
   ]
  },
  {
   "cell_type": "code",
   "execution_count": 3,
   "metadata": {},
   "outputs": [],
   "source": [
    "warnings.simplefilter(action='ignore', category=FutureWarning)"
   ]
  },
  {
   "cell_type": "code",
   "execution_count": 4,
   "metadata": {},
   "outputs": [
    {
     "name": "stdout",
     "output_type": "stream",
     "text": [
      "(69333, 30)\n"
     ]
    }
   ],
   "source": [
    "print(df.shape)"
   ]
  },
  {
   "cell_type": "code",
   "execution_count": 5,
   "metadata": {},
   "outputs": [
    {
     "data": {
      "text/plain": [
       "Index(['id', 'data_inversa', 'dia_semana', 'horario', 'uf', 'br', 'km',\n",
       "       'municipio', 'causa_acidente', 'tipo_acidente',\n",
       "       'classificacao_acidente', 'fase_dia', 'sentido_via',\n",
       "       'condicao_metereologica', 'tipo_pista', 'tracado_via', 'uso_solo',\n",
       "       'pessoas', 'mortos', 'feridos_leves', 'feridos_graves', 'ilesos',\n",
       "       'ignorados', 'feridos', 'veiculos', 'latitude', 'longitude', 'regional',\n",
       "       'delegacia', 'uop'],\n",
       "      dtype='object')"
      ]
     },
     "execution_count": 5,
     "metadata": {},
     "output_type": "execute_result"
    }
   ],
   "source": [
    "df.columns"
   ]
  },
  {
   "cell_type": "code",
   "execution_count": 6,
   "metadata": {},
   "outputs": [],
   "source": [
    "df.drop_duplicates(inplace=True)"
   ]
  },
  {
   "cell_type": "code",
   "execution_count": 7,
   "metadata": {},
   "outputs": [
    {
     "name": "stdout",
     "output_type": "stream",
     "text": [
      "<class 'pandas.core.frame.DataFrame'>\n",
      "RangeIndex: 69333 entries, 0 to 69332\n",
      "Data columns (total 30 columns):\n",
      " #   Column                  Non-Null Count  Dtype  \n",
      "---  ------                  --------------  -----  \n",
      " 0   id                      69333 non-null  float64\n",
      " 1   data_inversa            69333 non-null  object \n",
      " 2   dia_semana              69333 non-null  object \n",
      " 3   horario                 69333 non-null  object \n",
      " 4   uf                      69333 non-null  object \n",
      " 5   br                      69333 non-null  int64  \n",
      " 6   km                      69333 non-null  object \n",
      " 7   municipio               69333 non-null  object \n",
      " 8   causa_acidente          69333 non-null  object \n",
      " 9   tipo_acidente           69310 non-null  object \n",
      " 10  classificacao_acidente  69332 non-null  object \n",
      " 11  fase_dia                69333 non-null  object \n",
      " 12  sentido_via             69333 non-null  object \n",
      " 13  condicao_metereologica  69333 non-null  object \n",
      " 14  tipo_pista              69333 non-null  object \n",
      " 15  tracado_via             69333 non-null  object \n",
      " 16  uso_solo                69333 non-null  object \n",
      " 17  pessoas                 69333 non-null  int64  \n",
      " 18  mortos                  69333 non-null  int64  \n",
      " 19  feridos_leves           69333 non-null  int64  \n",
      " 20  feridos_graves          69333 non-null  int64  \n",
      " 21  ilesos                  69333 non-null  int64  \n",
      " 22  ignorados               69333 non-null  int64  \n",
      " 23  feridos                 69333 non-null  int64  \n",
      " 24  veiculos                69333 non-null  int64  \n",
      " 25  latitude                69333 non-null  object \n",
      " 26  longitude               69333 non-null  object \n",
      " 27  regional                69333 non-null  object \n",
      " 28  delegacia               69298 non-null  object \n",
      " 29  uop                     69291 non-null  object \n",
      "dtypes: float64(1), int64(9), object(20)\n",
      "memory usage: 15.9+ MB\n"
     ]
    }
   ],
   "source": [
    "df.info()"
   ]
  },
  {
   "cell_type": "code",
   "execution_count": 8,
   "metadata": {},
   "outputs": [
    {
     "data": {
      "text/html": [
       "<div>\n",
       "<style scoped>\n",
       "    .dataframe tbody tr th:only-of-type {\n",
       "        vertical-align: middle;\n",
       "    }\n",
       "\n",
       "    .dataframe tbody tr th {\n",
       "        vertical-align: top;\n",
       "    }\n",
       "\n",
       "    .dataframe thead th {\n",
       "        text-align: right;\n",
       "    }\n",
       "</style>\n",
       "<table border=\"1\" class=\"dataframe\">\n",
       "  <thead>\n",
       "    <tr style=\"text-align: right;\">\n",
       "      <th></th>\n",
       "      <th>id</th>\n",
       "      <th>data_inversa</th>\n",
       "      <th>dia_semana</th>\n",
       "      <th>horario</th>\n",
       "      <th>uf</th>\n",
       "      <th>br</th>\n",
       "      <th>km</th>\n",
       "      <th>municipio</th>\n",
       "      <th>causa_acidente</th>\n",
       "      <th>tipo_acidente</th>\n",
       "      <th>classificacao_acidente</th>\n",
       "      <th>fase_dia</th>\n",
       "      <th>sentido_via</th>\n",
       "      <th>condicao_metereologica</th>\n",
       "      <th>tipo_pista</th>\n",
       "      <th>tracado_via</th>\n",
       "      <th>uso_solo</th>\n",
       "      <th>pessoas</th>\n",
       "      <th>mortos</th>\n",
       "      <th>feridos_leves</th>\n",
       "      <th>feridos_graves</th>\n",
       "      <th>ilesos</th>\n",
       "      <th>ignorados</th>\n",
       "      <th>feridos</th>\n",
       "      <th>veiculos</th>\n",
       "      <th>latitude</th>\n",
       "      <th>longitude</th>\n",
       "      <th>regional</th>\n",
       "      <th>delegacia</th>\n",
       "      <th>uop</th>\n",
       "    </tr>\n",
       "  </thead>\n",
       "  <tbody>\n",
       "    <tr>\n",
       "      <th>0</th>\n",
       "      <td>100027.0</td>\n",
       "      <td>2018-01-01</td>\n",
       "      <td>segunda-feira</td>\n",
       "      <td>06:00:00</td>\n",
       "      <td>TO</td>\n",
       "      <td>153</td>\n",
       "      <td>393,1</td>\n",
       "      <td>RIO DOS BOIS</td>\n",
       "      <td>Falta de Atenção à Condução</td>\n",
       "      <td>Colisão frontal</td>\n",
       "      <td>Com Vítimas Feridas</td>\n",
       "      <td>Pleno dia</td>\n",
       "      <td>Decrescente</td>\n",
       "      <td>Céu Claro</td>\n",
       "      <td>Simples</td>\n",
       "      <td>Aclive</td>\n",
       "      <td>Não</td>\n",
       "      <td>2</td>\n",
       "      <td>0</td>\n",
       "      <td>0</td>\n",
       "      <td>1</td>\n",
       "      <td>1</td>\n",
       "      <td>0</td>\n",
       "      <td>1</td>\n",
       "      <td>2</td>\n",
       "      <td>-9,35641407</td>\n",
       "      <td>-48,54610294</td>\n",
       "      <td>SPRF-TO</td>\n",
       "      <td>DEL02-TO</td>\n",
       "      <td>UOP02-DEL02-TO</td>\n",
       "    </tr>\n",
       "    <tr>\n",
       "      <th>1</th>\n",
       "      <td>100044.0</td>\n",
       "      <td>2018-01-01</td>\n",
       "      <td>segunda-feira</td>\n",
       "      <td>08:30:00</td>\n",
       "      <td>SE</td>\n",
       "      <td>101</td>\n",
       "      <td>123,4</td>\n",
       "      <td>ITAPORANGA DAJUDA</td>\n",
       "      <td>Não guardar distância de segurança</td>\n",
       "      <td>Colisão traseira</td>\n",
       "      <td>Sem Vítimas</td>\n",
       "      <td>Pleno dia</td>\n",
       "      <td>Decrescente</td>\n",
       "      <td>Céu Claro</td>\n",
       "      <td>Dupla</td>\n",
       "      <td>Reta</td>\n",
       "      <td>Não</td>\n",
       "      <td>2</td>\n",
       "      <td>0</td>\n",
       "      <td>0</td>\n",
       "      <td>0</td>\n",
       "      <td>2</td>\n",
       "      <td>0</td>\n",
       "      <td>0</td>\n",
       "      <td>2</td>\n",
       "      <td>-11,04476007</td>\n",
       "      <td>-37,36498</td>\n",
       "      <td>SPRF-SE</td>\n",
       "      <td>DEL02-SE</td>\n",
       "      <td>UOP01-DEL02-SE</td>\n",
       "    </tr>\n",
       "    <tr>\n",
       "      <th>2</th>\n",
       "      <td>100046.0</td>\n",
       "      <td>2018-01-01</td>\n",
       "      <td>segunda-feira</td>\n",
       "      <td>08:50:00</td>\n",
       "      <td>TO</td>\n",
       "      <td>153</td>\n",
       "      <td>347</td>\n",
       "      <td>GUARAI</td>\n",
       "      <td>Falta de Atenção à Condução</td>\n",
       "      <td>Colisão lateral</td>\n",
       "      <td>NaN</td>\n",
       "      <td>Pleno dia</td>\n",
       "      <td>Crescente</td>\n",
       "      <td>Céu Claro</td>\n",
       "      <td>Simples</td>\n",
       "      <td>Reta;Interseção de Vias</td>\n",
       "      <td>Não</td>\n",
       "      <td>3</td>\n",
       "      <td>0</td>\n",
       "      <td>0</td>\n",
       "      <td>0</td>\n",
       "      <td>2</td>\n",
       "      <td>1</td>\n",
       "      <td>0</td>\n",
       "      <td>3</td>\n",
       "      <td>-8,952295</td>\n",
       "      <td>-48,500107</td>\n",
       "      <td>SPRF-TO</td>\n",
       "      <td>DEL02-TO</td>\n",
       "      <td>UOP02-DEL02-TO</td>\n",
       "    </tr>\n",
       "    <tr>\n",
       "      <th>3</th>\n",
       "      <td>100052.0</td>\n",
       "      <td>2018-01-01</td>\n",
       "      <td>segunda-feira</td>\n",
       "      <td>05:30:00</td>\n",
       "      <td>PA</td>\n",
       "      <td>155</td>\n",
       "      <td>221</td>\n",
       "      <td>ELDORADO DO CARAJAS</td>\n",
       "      <td>Ingestão de Álcool</td>\n",
       "      <td>Colisão lateral</td>\n",
       "      <td>Com Vítimas Fatais</td>\n",
       "      <td>Amanhecer</td>\n",
       "      <td>Crescente</td>\n",
       "      <td>Céu Claro</td>\n",
       "      <td>Simples</td>\n",
       "      <td>Reta</td>\n",
       "      <td>Não</td>\n",
       "      <td>2</td>\n",
       "      <td>1</td>\n",
       "      <td>0</td>\n",
       "      <td>0</td>\n",
       "      <td>1</td>\n",
       "      <td>0</td>\n",
       "      <td>0</td>\n",
       "      <td>2</td>\n",
       "      <td>-6,345512</td>\n",
       "      <td>-49,389626</td>\n",
       "      <td>SPRF-PA</td>\n",
       "      <td>DEL03-PA</td>\n",
       "      <td>UOP01-DEL03-PA</td>\n",
       "    </tr>\n",
       "    <tr>\n",
       "      <th>4</th>\n",
       "      <td>100053.0</td>\n",
       "      <td>2018-01-01</td>\n",
       "      <td>segunda-feira</td>\n",
       "      <td>10:25:00</td>\n",
       "      <td>BA</td>\n",
       "      <td>116</td>\n",
       "      <td>289,6</td>\n",
       "      <td>TUCANO</td>\n",
       "      <td>Ultrapassagem Indevida</td>\n",
       "      <td>Saída de leito carroçável</td>\n",
       "      <td>Com Vítimas Feridas</td>\n",
       "      <td>Pleno dia</td>\n",
       "      <td>Crescente</td>\n",
       "      <td>Sol</td>\n",
       "      <td>Simples</td>\n",
       "      <td>Reta</td>\n",
       "      <td>Não</td>\n",
       "      <td>2</td>\n",
       "      <td>0</td>\n",
       "      <td>0</td>\n",
       "      <td>1</td>\n",
       "      <td>0</td>\n",
       "      <td>1</td>\n",
       "      <td>1</td>\n",
       "      <td>2</td>\n",
       "      <td>-11,08661652</td>\n",
       "      <td>-38,83420181</td>\n",
       "      <td>SPRF-BA</td>\n",
       "      <td>DEL02-BA</td>\n",
       "      <td>DEL10/2-UOP02/BA</td>\n",
       "    </tr>\n",
       "  </tbody>\n",
       "</table>\n",
       "</div>"
      ],
      "text/plain": [
       "         id data_inversa     dia_semana   horario  uf   br     km  \\\n",
       "0  100027.0   2018-01-01  segunda-feira  06:00:00  TO  153  393,1   \n",
       "1  100044.0   2018-01-01  segunda-feira  08:30:00  SE  101  123,4   \n",
       "2  100046.0   2018-01-01  segunda-feira  08:50:00  TO  153    347   \n",
       "3  100052.0   2018-01-01  segunda-feira  05:30:00  PA  155    221   \n",
       "4  100053.0   2018-01-01  segunda-feira  10:25:00  BA  116  289,6   \n",
       "\n",
       "             municipio                      causa_acidente  \\\n",
       "0         RIO DOS BOIS         Falta de Atenção à Condução   \n",
       "1    ITAPORANGA DAJUDA  Não guardar distância de segurança   \n",
       "2               GUARAI         Falta de Atenção à Condução   \n",
       "3  ELDORADO DO CARAJAS                  Ingestão de Álcool   \n",
       "4               TUCANO              Ultrapassagem Indevida   \n",
       "\n",
       "               tipo_acidente classificacao_acidente   fase_dia  sentido_via  \\\n",
       "0            Colisão frontal    Com Vítimas Feridas  Pleno dia  Decrescente   \n",
       "1           Colisão traseira            Sem Vítimas  Pleno dia  Decrescente   \n",
       "2            Colisão lateral                    NaN  Pleno dia    Crescente   \n",
       "3            Colisão lateral     Com Vítimas Fatais  Amanhecer    Crescente   \n",
       "4  Saída de leito carroçável    Com Vítimas Feridas  Pleno dia    Crescente   \n",
       "\n",
       "  condicao_metereologica tipo_pista              tracado_via uso_solo  \\\n",
       "0              Céu Claro    Simples                   Aclive      Não   \n",
       "1              Céu Claro      Dupla                     Reta      Não   \n",
       "2              Céu Claro    Simples  Reta;Interseção de Vias      Não   \n",
       "3              Céu Claro    Simples                     Reta      Não   \n",
       "4                    Sol    Simples                     Reta      Não   \n",
       "\n",
       "   pessoas  mortos  feridos_leves  feridos_graves  ilesos  ignorados  feridos  \\\n",
       "0        2       0              0               1       1          0        1   \n",
       "1        2       0              0               0       2          0        0   \n",
       "2        3       0              0               0       2          1        0   \n",
       "3        2       1              0               0       1          0        0   \n",
       "4        2       0              0               1       0          1        1   \n",
       "\n",
       "   veiculos      latitude     longitude regional delegacia               uop  \n",
       "0         2   -9,35641407  -48,54610294  SPRF-TO  DEL02-TO    UOP02-DEL02-TO  \n",
       "1         2  -11,04476007     -37,36498  SPRF-SE  DEL02-SE    UOP01-DEL02-SE  \n",
       "2         3     -8,952295    -48,500107  SPRF-TO  DEL02-TO    UOP02-DEL02-TO  \n",
       "3         2     -6,345512    -49,389626  SPRF-PA  DEL03-PA    UOP01-DEL03-PA  \n",
       "4         2  -11,08661652  -38,83420181  SPRF-BA  DEL02-BA  DEL10/2-UOP02/BA  "
      ]
     },
     "execution_count": 8,
     "metadata": {},
     "output_type": "execute_result"
    }
   ],
   "source": [
    "pd.set_option('display.max_columns', None)\n",
    "df.head()"
   ]
  },
  {
   "cell_type": "code",
   "execution_count": 9,
   "metadata": {},
   "outputs": [
    {
     "data": {
      "text/plain": [
       "Index(['id', 'data_inversa', 'dia_semana', 'horario', 'uf', 'br', 'km',\n",
       "       'municipio', 'causa_acidente', 'tipo_acidente',\n",
       "       'classificacao_acidente', 'fase_dia', 'sentido_via',\n",
       "       'condicao_metereologica', 'tipo_pista', 'tracado_via', 'uso_solo',\n",
       "       'pessoas', 'mortos', 'feridos_leves', 'feridos_graves', 'ilesos',\n",
       "       'ignorados', 'feridos', 'veiculos', 'latitude', 'longitude', 'regional',\n",
       "       'delegacia', 'uop'],\n",
       "      dtype='object')"
      ]
     },
     "execution_count": 9,
     "metadata": {},
     "output_type": "execute_result"
    }
   ],
   "source": [
    "df.columns"
   ]
  },
  {
   "cell_type": "code",
   "execution_count": 10,
   "metadata": {},
   "outputs": [
    {
     "data": {
      "text/html": [
       "<div>\n",
       "<style scoped>\n",
       "    .dataframe tbody tr th:only-of-type {\n",
       "        vertical-align: middle;\n",
       "    }\n",
       "\n",
       "    .dataframe tbody tr th {\n",
       "        vertical-align: top;\n",
       "    }\n",
       "\n",
       "    .dataframe thead th {\n",
       "        text-align: right;\n",
       "    }\n",
       "</style>\n",
       "<table border=\"1\" class=\"dataframe\">\n",
       "  <thead>\n",
       "    <tr style=\"text-align: right;\">\n",
       "      <th></th>\n",
       "      <th>id</th>\n",
       "      <th>br</th>\n",
       "      <th>pessoas</th>\n",
       "      <th>mortos</th>\n",
       "      <th>feridos_leves</th>\n",
       "      <th>feridos_graves</th>\n",
       "      <th>ilesos</th>\n",
       "      <th>ignorados</th>\n",
       "      <th>feridos</th>\n",
       "      <th>veiculos</th>\n",
       "    </tr>\n",
       "  </thead>\n",
       "  <tbody>\n",
       "    <tr>\n",
       "      <th>count</th>\n",
       "      <td>69333.000000</td>\n",
       "      <td>69333.000000</td>\n",
       "      <td>69333.000000</td>\n",
       "      <td>69333.000000</td>\n",
       "      <td>69333.000000</td>\n",
       "      <td>69333.000000</td>\n",
       "      <td>69333.000000</td>\n",
       "      <td>69333.000000</td>\n",
       "      <td>69333.000000</td>\n",
       "      <td>69333.000000</td>\n",
       "    </tr>\n",
       "    <tr>\n",
       "      <th>mean</th>\n",
       "      <td>143135.305670</td>\n",
       "      <td>214.962644</td>\n",
       "      <td>2.523488</td>\n",
       "      <td>0.076068</td>\n",
       "      <td>0.850547</td>\n",
       "      <td>0.255636</td>\n",
       "      <td>1.065899</td>\n",
       "      <td>0.348896</td>\n",
       "      <td>1.106183</td>\n",
       "      <td>1.952894</td>\n",
       "    </tr>\n",
       "    <tr>\n",
       "      <th>std</th>\n",
       "      <td>28653.858106</td>\n",
       "      <td>130.866756</td>\n",
       "      <td>1.981121</td>\n",
       "      <td>0.324459</td>\n",
       "      <td>1.105517</td>\n",
       "      <td>0.608706</td>\n",
       "      <td>1.482770</td>\n",
       "      <td>0.748835</td>\n",
       "      <td>1.244884</td>\n",
       "      <td>1.051425</td>\n",
       "    </tr>\n",
       "    <tr>\n",
       "      <th>min</th>\n",
       "      <td>99973.000000</td>\n",
       "      <td>0.000000</td>\n",
       "      <td>1.000000</td>\n",
       "      <td>0.000000</td>\n",
       "      <td>0.000000</td>\n",
       "      <td>0.000000</td>\n",
       "      <td>0.000000</td>\n",
       "      <td>0.000000</td>\n",
       "      <td>0.000000</td>\n",
       "      <td>1.000000</td>\n",
       "    </tr>\n",
       "    <tr>\n",
       "      <th>25%</th>\n",
       "      <td>120212.000000</td>\n",
       "      <td>101.000000</td>\n",
       "      <td>2.000000</td>\n",
       "      <td>0.000000</td>\n",
       "      <td>0.000000</td>\n",
       "      <td>0.000000</td>\n",
       "      <td>0.000000</td>\n",
       "      <td>0.000000</td>\n",
       "      <td>0.000000</td>\n",
       "      <td>1.000000</td>\n",
       "    </tr>\n",
       "    <tr>\n",
       "      <th>50%</th>\n",
       "      <td>143515.000000</td>\n",
       "      <td>163.000000</td>\n",
       "      <td>2.000000</td>\n",
       "      <td>0.000000</td>\n",
       "      <td>1.000000</td>\n",
       "      <td>0.000000</td>\n",
       "      <td>1.000000</td>\n",
       "      <td>0.000000</td>\n",
       "      <td>1.000000</td>\n",
       "      <td>2.000000</td>\n",
       "    </tr>\n",
       "    <tr>\n",
       "      <th>75%</th>\n",
       "      <td>163462.000000</td>\n",
       "      <td>343.000000</td>\n",
       "      <td>3.000000</td>\n",
       "      <td>0.000000</td>\n",
       "      <td>1.000000</td>\n",
       "      <td>0.000000</td>\n",
       "      <td>1.000000</td>\n",
       "      <td>0.000000</td>\n",
       "      <td>1.000000</td>\n",
       "      <td>2.000000</td>\n",
       "    </tr>\n",
       "    <tr>\n",
       "      <th>max</th>\n",
       "      <td>594880.000000</td>\n",
       "      <td>498.000000</td>\n",
       "      <td>81.000000</td>\n",
       "      <td>13.000000</td>\n",
       "      <td>58.000000</td>\n",
       "      <td>28.000000</td>\n",
       "      <td>56.000000</td>\n",
       "      <td>15.000000</td>\n",
       "      <td>66.000000</td>\n",
       "      <td>21.000000</td>\n",
       "    </tr>\n",
       "  </tbody>\n",
       "</table>\n",
       "</div>"
      ],
      "text/plain": [
       "                  id            br       pessoas        mortos  feridos_leves  \\\n",
       "count   69333.000000  69333.000000  69333.000000  69333.000000   69333.000000   \n",
       "mean   143135.305670    214.962644      2.523488      0.076068       0.850547   \n",
       "std     28653.858106    130.866756      1.981121      0.324459       1.105517   \n",
       "min     99973.000000      0.000000      1.000000      0.000000       0.000000   \n",
       "25%    120212.000000    101.000000      2.000000      0.000000       0.000000   \n",
       "50%    143515.000000    163.000000      2.000000      0.000000       1.000000   \n",
       "75%    163462.000000    343.000000      3.000000      0.000000       1.000000   \n",
       "max    594880.000000    498.000000     81.000000     13.000000      58.000000   \n",
       "\n",
       "       feridos_graves        ilesos     ignorados       feridos      veiculos  \n",
       "count    69333.000000  69333.000000  69333.000000  69333.000000  69333.000000  \n",
       "mean         0.255636      1.065899      0.348896      1.106183      1.952894  \n",
       "std          0.608706      1.482770      0.748835      1.244884      1.051425  \n",
       "min          0.000000      0.000000      0.000000      0.000000      1.000000  \n",
       "25%          0.000000      0.000000      0.000000      0.000000      1.000000  \n",
       "50%          0.000000      1.000000      0.000000      1.000000      2.000000  \n",
       "75%          0.000000      1.000000      0.000000      1.000000      2.000000  \n",
       "max         28.000000     56.000000     15.000000     66.000000     21.000000  "
      ]
     },
     "execution_count": 10,
     "metadata": {},
     "output_type": "execute_result"
    }
   ],
   "source": [
    "df.describe()"
   ]
  },
  {
   "cell_type": "code",
   "execution_count": 11,
   "metadata": {},
   "outputs": [
    {
     "data": {
      "text/plain": [
       "id                                           100027.0\n",
       "data_inversa                               2018-01-01\n",
       "dia_semana                              segunda-feira\n",
       "horario                                      06:00:00\n",
       "uf                                                 TO\n",
       "br                                                153\n",
       "km                                              393,1\n",
       "municipio                                RIO DOS BOIS\n",
       "causa_acidente            Falta de Atenção à Condução\n",
       "tipo_acidente                         Colisão frontal\n",
       "classificacao_acidente            Com Vítimas Feridas\n",
       "fase_dia                                    Pleno dia\n",
       "sentido_via                               Decrescente\n",
       "condicao_metereologica                      Céu Claro\n",
       "tipo_pista                                    Simples\n",
       "Name: 0, dtype: object"
      ]
     },
     "execution_count": 11,
     "metadata": {},
     "output_type": "execute_result"
    }
   ],
   "source": [
    "df.loc[0][0:15]"
   ]
  },
  {
   "cell_type": "markdown",
   "metadata": {},
   "source": [
    "Diversos erros nos dados podem ser encontrados, como formatação e colunas desnecessárias"
   ]
  },
  {
   "cell_type": "markdown",
   "metadata": {},
   "source": [
    "#### **Escolhendo colunas para o modelo**"
   ]
  },
  {
   "cell_type": "code",
   "execution_count": 12,
   "metadata": {},
   "outputs": [],
   "source": [
    "df = df[['data_inversa','fase_dia','horario', 'uf', 'br', 'causa_acidente', 'tipo_acidente', 'uso_solo', 'pessoas', 'classificacao_acidente']]"
   ]
  },
  {
   "cell_type": "code",
   "execution_count": 13,
   "metadata": {},
   "outputs": [
    {
     "name": "stdout",
     "output_type": "stream",
     "text": [
      "(69333, 10)\n"
     ]
    }
   ],
   "source": [
    "print(df.shape)"
   ]
  },
  {
   "cell_type": "markdown",
   "metadata": {},
   "source": [
    "**Verificando se há valores nulos**"
   ]
  },
  {
   "cell_type": "code",
   "execution_count": 14,
   "metadata": {},
   "outputs": [
    {
     "data": {
      "text/plain": [
       "tipo_acidente             23\n",
       "classificacao_acidente     1\n",
       "dtype: int64"
      ]
     },
     "execution_count": 14,
     "metadata": {},
     "output_type": "execute_result"
    }
   ],
   "source": [
    "valores_vazios = df.isna().sum()\n",
    "valores_vazios[valores_vazios > 0]"
   ]
  },
  {
   "cell_type": "markdown",
   "metadata": {},
   "source": [
    "### **Tratando valores vazios**"
   ]
  },
  {
   "cell_type": "markdown",
   "metadata": {},
   "source": [
    "Tipo Acidente"
   ]
  },
  {
   "cell_type": "code",
   "execution_count": 15,
   "metadata": {},
   "outputs": [
    {
     "data": {
      "text/plain": [
       "tipo_acidente\n",
       "Colisão traseira                   12947\n",
       "Saída de leito carroçável          11335\n",
       "Colisão transversal                 8619\n",
       "Colisão lateral                     8348\n",
       "Tombamento                          5174\n",
       "Colisão com objeto estático         5061\n",
       "Colisão frontal                     4585\n",
       "Atropelamento de Pedestre           3375\n",
       "Queda de ocupante de veículo        3033\n",
       "Capotamento                         2814\n",
       "Atropelamento de Animal             1237\n",
       "Engavetamento                        992\n",
       "Incêndio                             931\n",
       "Colisão com objeto em movimento      399\n",
       "Derramamento de carga                236\n",
       "Danos eventuais                      223\n",
       "Colisão lateral mesmo sentido          1\n",
       "Name: count, dtype: int64"
      ]
     },
     "execution_count": 15,
     "metadata": {},
     "output_type": "execute_result"
    }
   ],
   "source": [
    "df['tipo_acidente'].value_counts()"
   ]
  },
  {
   "cell_type": "code",
   "execution_count": 16,
   "metadata": {},
   "outputs": [],
   "source": [
    "#Atribuindo a moda para o valor faltante\n",
    "df.fillna({\n",
    "    'tipo_acidente' : 'Colisão traseira'\n",
    "}, inplace=True)"
   ]
  },
  {
   "cell_type": "code",
   "execution_count": 17,
   "metadata": {},
   "outputs": [
    {
     "data": {
      "text/plain": [
       "data_inversa              object\n",
       "fase_dia                  object\n",
       "horario                   object\n",
       "uf                        object\n",
       "br                         int64\n",
       "causa_acidente            object\n",
       "tipo_acidente             object\n",
       "uso_solo                  object\n",
       "pessoas                    int64\n",
       "classificacao_acidente    object\n",
       "dtype: object"
      ]
     },
     "execution_count": 17,
     "metadata": {},
     "output_type": "execute_result"
    }
   ],
   "source": [
    "df.dtypes[:20]"
   ]
  },
  {
   "cell_type": "markdown",
   "metadata": {},
   "source": [
    "O tipo object significa que pode haver dois ou mais tipos de dados misturados"
   ]
  },
  {
   "cell_type": "markdown",
   "metadata": {},
   "source": [
    "***Formatando os tipos de dados***"
   ]
  },
  {
   "cell_type": "code",
   "execution_count": 18,
   "metadata": {},
   "outputs": [
    {
     "data": {
      "text/plain": [
       "horario\n",
       "18:00:00    1027\n",
       "18:30:00     993\n",
       "19:00:00     990\n",
       "17:00:00     843\n",
       "16:00:00     775\n",
       "            ... \n",
       "11:16:00       1\n",
       "05:16:00       1\n",
       "05:43:00       1\n",
       "19:33:00       1\n",
       "16:24:00       1\n",
       "Name: count, Length: 1292, dtype: int64"
      ]
     },
     "execution_count": 18,
     "metadata": {},
     "output_type": "execute_result"
    }
   ],
   "source": [
    "# Observando o formato dos dados\n",
    "df['horario'].value_counts()"
   ]
  },
  {
   "cell_type": "markdown",
   "metadata": {},
   "source": [
    "**Coluna uf**"
   ]
  },
  {
   "cell_type": "code",
   "execution_count": 19,
   "metadata": {},
   "outputs": [
    {
     "data": {
      "text/plain": [
       "uf\n",
       "MG    9073\n",
       "SC    8499\n",
       "PR    7958\n",
       "RJ    4577\n",
       "SP    4517\n",
       "RS    4449\n",
       "BA    3559\n",
       "GO    3465\n",
       "PE    2716\n",
       "ES    2642\n",
       "MT    2632\n",
       "CE    1697\n",
       "RO    1630\n",
       "PB    1589\n",
       "MS    1530\n",
       "RN    1417\n",
       "PI    1371\n",
       "MA    1275\n",
       "PA    1260\n",
       "DF     867\n",
       "AL     691\n",
       "TO     589\n",
       "SE     559\n",
       "AC     238\n",
       "RR     236\n",
       "AP     173\n",
       "AM     124\n",
       "Name: count, dtype: int64"
      ]
     },
     "execution_count": 19,
     "metadata": {},
     "output_type": "execute_result"
    }
   ],
   "source": [
    "df['uf'].value_counts()"
   ]
  },
  {
   "cell_type": "code",
   "execution_count": 20,
   "metadata": {},
   "outputs": [],
   "source": [
    "df['uf'] = df['uf'].astype(str)"
   ]
  },
  {
   "cell_type": "markdown",
   "metadata": {},
   "source": [
    "**Coluna BR**"
   ]
  },
  {
   "cell_type": "code",
   "execution_count": 21,
   "metadata": {},
   "outputs": [],
   "source": [
    "# Convertendo para string\n",
    "\n",
    "df['br'] = 'BR-' + df['br'].astype(int).astype(str)"
   ]
  },
  {
   "cell_type": "code",
   "execution_count": 22,
   "metadata": {},
   "outputs": [
    {
     "data": {
      "image/png": "[encoded data removed]",
      "text/plain": [
       "<Figure size 1200x600 with 2 Axes>"
      ]
     },
     "metadata": {},
     "output_type": "display_data"
    }
   ],
   "source": [
    "fig, axs = plt.subplots(1, 2, figsize=(12, 6))\n",
    "\n",
    "df['br'].value_counts(ascending=True)[df[\"br\"].unique().shape[0] - 10:].plot(kind=\"barh\", ax=axs[0])\n",
    "axs[0].set_title('Mais Comuns')\n",
    "\n",
    "# Gráfico dos últimos 10 registros\n",
    "df['br'].value_counts(ascending=True)[:10].plot(kind=\"barh\", ax=axs[1])\n",
    "axs[1].set_title('Menos Comuns')\n",
    "\n",
    "plt.tight_layout()\n",
    "plt.show()"
   ]
  },
  {
   "cell_type": "markdown",
   "metadata": {},
   "source": [
    "**Coluna Causa_acidente**"
   ]
  },
  {
   "cell_type": "code",
   "execution_count": 23,
   "metadata": {},
   "outputs": [
    {
     "data": {
      "text/plain": [
       "causa_acidente\n",
       "Falta de Atenção à Condução                                                       25841\n",
       "Desobediência às normas de trânsito pelo condutor                                  7194\n",
       "Velocidade Incompatível                                                            6850\n",
       "Ingestão de Álcool                                                                 5203\n",
       "Não guardar distância de segurança                                                 4266\n",
       "Defeito Mecânico no Veículo                                                        3717\n",
       "Condutor Dormindo                                                                  2633\n",
       "Pista Escorregadia                                                                 2549\n",
       "Falta de Atenção do Pedestre                                                       2074\n",
       "Animais na Pista                                                                   1618\n",
       "Ultrapassagem Indevida                                                             1333\n",
       "Defeito na Via                                                                     1128\n",
       "Avarias e/ou desgaste excessivo no pneu                                            1011\n",
       "Mal Súbito                                                                          677\n",
       "Restrição de Visibilidade                                                           540\n",
       "Objeto estático sobre o leito carroçável                                            539\n",
       "Carga excessiva e/ou mal acondicionada                                              367\n",
       "Agressão Externa                                                                    356\n",
       "Fenômenos da Natureza                                                               310\n",
       "Sinalização da via insuficiente ou inadequada                                       291\n",
       "Desobediência às normas de trânsito pelo pedestre                                   273\n",
       "Ingestão de álcool e/ou substâncias psicoativas pelo pedestre                       247\n",
       "Deficiência ou não Acionamento do Sistema de Iluminação/Sinalização do Veículo      186\n",
       "Ingestão de Substâncias Psicoativas                                                  73\n",
       "Ingestão de álcool pelo condutor                                                     51\n",
       "Acumulo de areia ou detritos sobre o pavimento                                        1\n",
       "Curva acentuada                                                                       1\n",
       "Reação tardia ou ineficiente do condutor                                              1\n",
       "Desrespeitar a preferência no cruzamento                                              1\n",
       "Pedestre andava na pista                                                              1\n",
       "Ingestão de substâncias psicoativas pelo condutor                                     1\n",
       "Name: count, dtype: int64"
      ]
     },
     "execution_count": 23,
     "metadata": {},
     "output_type": "execute_result"
    }
   ],
   "source": [
    "df['causa_acidente'].value_counts()"
   ]
  },
  {
   "cell_type": "code",
   "execution_count": 24,
   "metadata": {},
   "outputs": [
    {
     "data": {
      "text/plain": [
       "<Axes: ylabel='count'>"
      ]
     },
     "execution_count": 24,
     "metadata": {},
     "output_type": "execute_result"
    },
    {
     "data": {
      "image/png": "[encoded data removed]",
      "text/plain": [
       "<Figure size 640x480 with 1 Axes>"
      ]
     },
     "metadata": {},
     "output_type": "display_data"
    }
   ],
   "source": [
    "df['uso_solo'].value_counts(ascending=True).plot(kind=\"pie\", colors=[\"orange\", \"teal\"])"
   ]
  },
  {
   "cell_type": "code",
   "execution_count": 25,
   "metadata": {},
   "outputs": [],
   "source": [
    "# Substituindo o valor 'sim' por urbano e 'Não' por rural\n",
    "# Essas informações estão disponíveis no dicionário de dados da PRF\n",
    "\n",
    "df['uso_solo'] = df['uso_solo'].replace({'Sim': 'Urbano', 'Não': 'Rural'})"
   ]
  },
  {
   "cell_type": "code",
   "execution_count": 26,
   "metadata": {},
   "outputs": [],
   "source": [
    "df['uso_solo'] = df['uso_solo'].astype(str)"
   ]
  },
  {
   "cell_type": "markdown",
   "metadata": {},
   "source": [
    "**Adicionando a coluna região**"
   ]
  },
  {
   "cell_type": "code",
   "execution_count": 27,
   "metadata": {},
   "outputs": [],
   "source": [
    "def adicionar_coluna_regiao(df):\n",
    "    # Dicionário de mapeamento de UF para região\n",
    "    regiao_por_uf = {\n",
    "        'AC': 'Norte', 'AL': 'Nordeste', 'AP': 'Norte', 'AM': 'Norte',\n",
    "        'BA': 'Nordeste', 'CE': 'Nordeste', 'DF': 'Centro-Oeste', 'ES': 'Sudeste',\n",
    "        'GO': 'Centro-Oeste', 'MA': 'Nordeste', 'MT': 'Centro-Oeste', 'MS': 'Centro-Oeste',\n",
    "        'MG': 'Sudeste', 'PA': 'Norte', 'PB': 'Nordeste', 'PR': 'Sul', 'PE': 'Nordeste',\n",
    "        'PI': 'Nordeste', 'RJ': 'Sudeste', 'RN': 'Nordeste', 'RS': 'Sul', 'RO': 'Norte',\n",
    "        'RR': 'Norte', 'SC': 'Sul', 'SP': 'Sudeste', 'SE': 'Nordeste', 'TO': 'Norte'\n",
    "    }\n",
    "    \n",
    "    # Adicionando a coluna 'região' com base na coluna 'uf'\n",
    "    df['regiao'] = df['uf'].map(regiao_por_uf)\n",
    "    \n",
    "    return df\n",
    "\n",
    "df = adicionar_coluna_regiao(df)"
   ]
  },
  {
   "cell_type": "markdown",
   "metadata": {},
   "source": [
    "Dividindo e salvando o arquivo"
   ]
  },
  {
   "cell_type": "code",
   "execution_count": 28,
   "metadata": {},
   "outputs": [],
   "source": [
    "df.to_csv('../data/acidentes.txt', index=False, sep=',')"
   ]
  }
 ],
 "metadata": {
  "kernelspec": {
   "display_name": "a3-ia",
   "language": "python",
   "name": "python3"
  },
  "language_info": {
   "codemirror_mode": {
    "name": "ipython",
    "version": 3
   },
   "file_extension": ".py",
   "mimetype": "text/x-python",
   "name": "python",
   "nbconvert_exporter": "python",
   "pygments_lexer": "ipython3",
   "version": "3.13.2"
  }
 },
 "nbformat": 4,
 "nbformat_minor": 2
}
