{
 "cells": [
  {
   "cell_type": "markdown",
   "metadata": {},
   "source": [
    "# **Projeto Acidentes em Rodovias Federais**"
   ]
  },
  {
   "cell_type": "markdown",
   "metadata": {},
   "source": [
    "##### Notebook Destinado a limpeza de dados"
   ]
  },
  {
   "cell_type": "code",
   "execution_count": 544,
   "metadata": {},
   "outputs": [],
   "source": [
    "import pandas as pd\n",
    "import numpy as np \n",
    "import seaborn as sns\n",
    "import matplotlib.pyplot as plt\n",
    "import warnings\n",
    "import statsmodels.api as sm\n"
   ]
  },
  {
   "cell_type": "code",
   "execution_count": 545,
   "metadata": {},
   "outputs": [],
   "source": [
    "df = pd.read_csv(\"../data/datatran2024.csv\", encoding='iso-8859-1', delimiter=\";\")"
   ]
  },
  {
   "cell_type": "code",
   "execution_count": 546,
   "metadata": {},
   "outputs": [],
   "source": [
    "warnings.simplefilter(action='ignore', category=FutureWarning)"
   ]
  },
  {
   "cell_type": "code",
   "execution_count": 547,
   "metadata": {},
   "outputs": [
    {
     "name": "stdout",
     "output_type": "stream",
     "text": [
      "(73156, 30)\n"
     ]
    }
   ],
   "source": [
    "print(df.shape)"
   ]
  },
  {
   "cell_type": "code",
   "execution_count": 548,
   "metadata": {},
   "outputs": [
    {
     "data": {
      "text/plain": [
       "Index(['id', 'data_inversa', 'dia_semana', 'horario', 'uf', 'br', 'km',\n",
       "       'municipio', 'causa_acidente', 'tipo_acidente',\n",
       "       'classificacao_acidente', 'fase_dia', 'sentido_via',\n",
       "       'condicao_metereologica', 'tipo_pista', 'tracado_via', 'uso_solo',\n",
       "       'pessoas', 'mortos', 'feridos_leves', 'feridos_graves', 'ilesos',\n",
       "       'ignorados', 'feridos', 'veiculos', 'latitude', 'longitude', 'regional',\n",
       "       'delegacia', 'uop'],\n",
       "      dtype='object')"
      ]
     },
     "execution_count": 548,
     "metadata": {},
     "output_type": "execute_result"
    }
   ],
   "source": [
    "df.columns"
   ]
  },
  {
   "cell_type": "code",
   "execution_count": 549,
   "metadata": {},
   "outputs": [],
   "source": [
    "df.drop_duplicates(inplace=True)"
   ]
  },
  {
   "cell_type": "code",
   "execution_count": 550,
   "metadata": {},
   "outputs": [
    {
     "name": "stdout",
     "output_type": "stream",
     "text": [
      "<class 'pandas.core.frame.DataFrame'>\n",
      "RangeIndex: 73156 entries, 0 to 73155\n",
      "Data columns (total 30 columns):\n",
      " #   Column                  Non-Null Count  Dtype  \n",
      "---  ------                  --------------  -----  \n",
      " 0   id                      73156 non-null  float64\n",
      " 1   data_inversa            73156 non-null  object \n",
      " 2   dia_semana              73156 non-null  object \n",
      " 3   horario                 73156 non-null  object \n",
      " 4   uf                      73156 non-null  object \n",
      " 5   br                      73156 non-null  int64  \n",
      " 6   km                      73156 non-null  object \n",
      " 7   municipio               73156 non-null  object \n",
      " 8   causa_acidente          73156 non-null  object \n",
      " 9   tipo_acidente           73156 non-null  object \n",
      " 10  classificacao_acidente  73155 non-null  object \n",
      " 11  fase_dia                73156 non-null  object \n",
      " 12  sentido_via             73156 non-null  object \n",
      " 13  condicao_metereologica  73156 non-null  object \n",
      " 14  tipo_pista              73156 non-null  object \n",
      " 15  tracado_via             73156 non-null  object \n",
      " 16  uso_solo                73156 non-null  object \n",
      " 17  pessoas                 73156 non-null  int64  \n",
      " 18  mortos                  73156 non-null  int64  \n",
      " 19  feridos_leves           73156 non-null  int64  \n",
      " 20  feridos_graves          73156 non-null  int64  \n",
      " 21  ilesos                  73156 non-null  int64  \n",
      " 22  ignorados               73156 non-null  int64  \n",
      " 23  feridos                 73156 non-null  int64  \n",
      " 24  veiculos                73156 non-null  int64  \n",
      " 25  latitude                73156 non-null  float64\n",
      " 26  longitude               73156 non-null  float64\n",
      " 27  regional                73153 non-null  object \n",
      " 28  delegacia               73120 non-null  object \n",
      " 29  uop                     73044 non-null  object \n",
      "dtypes: float64(3), int64(9), object(18)\n",
      "memory usage: 16.7+ MB\n"
     ]
    }
   ],
   "source": [
    "df.info()"
   ]
  },
  {
   "cell_type": "code",
   "execution_count": 551,
   "metadata": {},
   "outputs": [
    {
     "data": {
      "text/html": [
       "<div>\n",
       "<style scoped>\n",
       "    .dataframe tbody tr th:only-of-type {\n",
       "        vertical-align: middle;\n",
       "    }\n",
       "\n",
       "    .dataframe tbody tr th {\n",
       "        vertical-align: top;\n",
       "    }\n",
       "\n",
       "    .dataframe thead th {\n",
       "        text-align: right;\n",
       "    }\n",
       "</style>\n",
       "<table border=\"1\" class=\"dataframe\">\n",
       "  <thead>\n",
       "    <tr style=\"text-align: right;\">\n",
       "      <th></th>\n",
       "      <th>id</th>\n",
       "      <th>data_inversa</th>\n",
       "      <th>dia_semana</th>\n",
       "      <th>horario</th>\n",
       "      <th>uf</th>\n",
       "      <th>br</th>\n",
       "      <th>km</th>\n",
       "      <th>municipio</th>\n",
       "      <th>causa_acidente</th>\n",
       "      <th>tipo_acidente</th>\n",
       "      <th>classificacao_acidente</th>\n",
       "      <th>fase_dia</th>\n",
       "      <th>sentido_via</th>\n",
       "      <th>condicao_metereologica</th>\n",
       "      <th>tipo_pista</th>\n",
       "      <th>tracado_via</th>\n",
       "      <th>uso_solo</th>\n",
       "      <th>pessoas</th>\n",
       "      <th>mortos</th>\n",
       "      <th>feridos_leves</th>\n",
       "      <th>feridos_graves</th>\n",
       "      <th>ilesos</th>\n",
       "      <th>ignorados</th>\n",
       "      <th>feridos</th>\n",
       "      <th>veiculos</th>\n",
       "      <th>latitude</th>\n",
       "      <th>longitude</th>\n",
       "      <th>regional</th>\n",
       "      <th>delegacia</th>\n",
       "      <th>uop</th>\n",
       "    </tr>\n",
       "  </thead>\n",
       "  <tbody>\n",
       "    <tr>\n",
       "      <th>0</th>\n",
       "      <td>571789.0</td>\n",
       "      <td>2024-01-01</td>\n",
       "      <td>segunda-feira</td>\n",
       "      <td>03:56:00</td>\n",
       "      <td>ES</td>\n",
       "      <td>101</td>\n",
       "      <td>38</td>\n",
       "      <td>CONCEICAO DA BARRA</td>\n",
       "      <td>Ultrapassagem Indevida</td>\n",
       "      <td>Colisão lateral sentido oposto</td>\n",
       "      <td>NaN</td>\n",
       "      <td>Plena Noite</td>\n",
       "      <td>Crescente</td>\n",
       "      <td>Céu Claro</td>\n",
       "      <td>Simples</td>\n",
       "      <td>Reta</td>\n",
       "      <td>Não</td>\n",
       "      <td>3</td>\n",
       "      <td>0</td>\n",
       "      <td>0</td>\n",
       "      <td>1</td>\n",
       "      <td>1</td>\n",
       "      <td>1</td>\n",
       "      <td>1</td>\n",
       "      <td>3</td>\n",
       "      <td>-18.482610</td>\n",
       "      <td>-39.923790</td>\n",
       "      <td>SPRF-ES</td>\n",
       "      <td>DEL04-ES</td>\n",
       "      <td>UOP02-DEL04-ES</td>\n",
       "    </tr>\n",
       "    <tr>\n",
       "      <th>1</th>\n",
       "      <td>571804.0</td>\n",
       "      <td>2024-01-01</td>\n",
       "      <td>segunda-feira</td>\n",
       "      <td>04:50:00</td>\n",
       "      <td>PI</td>\n",
       "      <td>343</td>\n",
       "      <td>185</td>\n",
       "      <td>PIRIPIRI</td>\n",
       "      <td>Manobra de mudança de faixa</td>\n",
       "      <td>Colisão frontal</td>\n",
       "      <td>Com Vítimas Fatais</td>\n",
       "      <td>Amanhecer</td>\n",
       "      <td>Decrescente</td>\n",
       "      <td>Céu Claro</td>\n",
       "      <td>Simples</td>\n",
       "      <td>Reta</td>\n",
       "      <td>Sim</td>\n",
       "      <td>2</td>\n",
       "      <td>1</td>\n",
       "      <td>0</td>\n",
       "      <td>0</td>\n",
       "      <td>1</td>\n",
       "      <td>0</td>\n",
       "      <td>0</td>\n",
       "      <td>2</td>\n",
       "      <td>-4.296033</td>\n",
       "      <td>-41.767327</td>\n",
       "      <td>SPRF-PI</td>\n",
       "      <td>DEL02-PI</td>\n",
       "      <td>UOP01-DEL02-PI</td>\n",
       "    </tr>\n",
       "    <tr>\n",
       "      <th>2</th>\n",
       "      <td>571806.0</td>\n",
       "      <td>2024-01-01</td>\n",
       "      <td>segunda-feira</td>\n",
       "      <td>04:30:00</td>\n",
       "      <td>BA</td>\n",
       "      <td>116</td>\n",
       "      <td>578</td>\n",
       "      <td>BREJOES</td>\n",
       "      <td>Ingestão de álcool pelo condutor</td>\n",
       "      <td>Colisão frontal</td>\n",
       "      <td>Com Vítimas Fatais</td>\n",
       "      <td>Plena Noite</td>\n",
       "      <td>Decrescente</td>\n",
       "      <td>Céu Claro</td>\n",
       "      <td>Simples</td>\n",
       "      <td>Curva</td>\n",
       "      <td>Não</td>\n",
       "      <td>3</td>\n",
       "      <td>1</td>\n",
       "      <td>0</td>\n",
       "      <td>0</td>\n",
       "      <td>1</td>\n",
       "      <td>2</td>\n",
       "      <td>0</td>\n",
       "      <td>4</td>\n",
       "      <td>-13.071583</td>\n",
       "      <td>-39.961111</td>\n",
       "      <td>SPRF-BA</td>\n",
       "      <td>DEL03-BA</td>\n",
       "      <td>UOP02-DEL03-BA</td>\n",
       "    </tr>\n",
       "    <tr>\n",
       "      <th>3</th>\n",
       "      <td>571818.0</td>\n",
       "      <td>2024-01-01</td>\n",
       "      <td>segunda-feira</td>\n",
       "      <td>06:30:00</td>\n",
       "      <td>SE</td>\n",
       "      <td>101</td>\n",
       "      <td>18</td>\n",
       "      <td>MALHADA DOS BOIS</td>\n",
       "      <td>Reação tardia ou ineficiente do condutor</td>\n",
       "      <td>Saída de leito carroçável</td>\n",
       "      <td>Com Vítimas Feridas</td>\n",
       "      <td>Amanhecer</td>\n",
       "      <td>Crescente</td>\n",
       "      <td>Céu Claro</td>\n",
       "      <td>Dupla</td>\n",
       "      <td>Declive;Reta</td>\n",
       "      <td>Não</td>\n",
       "      <td>2</td>\n",
       "      <td>0</td>\n",
       "      <td>0</td>\n",
       "      <td>1</td>\n",
       "      <td>0</td>\n",
       "      <td>2</td>\n",
       "      <td>1</td>\n",
       "      <td>3</td>\n",
       "      <td>-10.356019</td>\n",
       "      <td>-36.905522</td>\n",
       "      <td>SPRF-SE</td>\n",
       "      <td>DEL02-SE</td>\n",
       "      <td>UOP02-DEL02-SE</td>\n",
       "    </tr>\n",
       "    <tr>\n",
       "      <th>4</th>\n",
       "      <td>571838.0</td>\n",
       "      <td>2024-01-01</td>\n",
       "      <td>segunda-feira</td>\n",
       "      <td>05:00:00</td>\n",
       "      <td>MT</td>\n",
       "      <td>364</td>\n",
       "      <td>240</td>\n",
       "      <td>RONDONOPOLIS</td>\n",
       "      <td>Condutor deixou de manter distância do veículo...</td>\n",
       "      <td>Colisão traseira</td>\n",
       "      <td>Sem Vítimas</td>\n",
       "      <td>Pleno dia</td>\n",
       "      <td>Crescente</td>\n",
       "      <td>Céu Claro</td>\n",
       "      <td>Dupla</td>\n",
       "      <td>Reta</td>\n",
       "      <td>Não</td>\n",
       "      <td>3</td>\n",
       "      <td>0</td>\n",
       "      <td>0</td>\n",
       "      <td>0</td>\n",
       "      <td>2</td>\n",
       "      <td>1</td>\n",
       "      <td>0</td>\n",
       "      <td>3</td>\n",
       "      <td>-16.179141</td>\n",
       "      <td>-54.789053</td>\n",
       "      <td>SPRF-MT</td>\n",
       "      <td>DEL02-MT</td>\n",
       "      <td>UOP01-DEL02-MT</td>\n",
       "    </tr>\n",
       "  </tbody>\n",
       "</table>\n",
       "</div>"
      ],
      "text/plain": [
       "         id data_inversa     dia_semana   horario  uf   br   km  \\\n",
       "0  571789.0   2024-01-01  segunda-feira  03:56:00  ES  101   38   \n",
       "1  571804.0   2024-01-01  segunda-feira  04:50:00  PI  343  185   \n",
       "2  571806.0   2024-01-01  segunda-feira  04:30:00  BA  116  578   \n",
       "3  571818.0   2024-01-01  segunda-feira  06:30:00  SE  101   18   \n",
       "4  571838.0   2024-01-01  segunda-feira  05:00:00  MT  364  240   \n",
       "\n",
       "            municipio                                     causa_acidente  \\\n",
       "0  CONCEICAO DA BARRA                             Ultrapassagem Indevida   \n",
       "1            PIRIPIRI                        Manobra de mudança de faixa   \n",
       "2             BREJOES                   Ingestão de álcool pelo condutor   \n",
       "3    MALHADA DOS BOIS           Reação tardia ou ineficiente do condutor   \n",
       "4        RONDONOPOLIS  Condutor deixou de manter distância do veículo...   \n",
       "\n",
       "                    tipo_acidente classificacao_acidente     fase_dia  \\\n",
       "0  Colisão lateral sentido oposto                    NaN  Plena Noite   \n",
       "1                 Colisão frontal     Com Vítimas Fatais    Amanhecer   \n",
       "2                 Colisão frontal     Com Vítimas Fatais  Plena Noite   \n",
       "3       Saída de leito carroçável    Com Vítimas Feridas    Amanhecer   \n",
       "4                Colisão traseira            Sem Vítimas    Pleno dia   \n",
       "\n",
       "   sentido_via condicao_metereologica tipo_pista   tracado_via uso_solo  \\\n",
       "0    Crescente              Céu Claro    Simples          Reta      Não   \n",
       "1  Decrescente              Céu Claro    Simples          Reta      Sim   \n",
       "2  Decrescente              Céu Claro    Simples         Curva      Não   \n",
       "3    Crescente              Céu Claro      Dupla  Declive;Reta      Não   \n",
       "4    Crescente              Céu Claro      Dupla          Reta      Não   \n",
       "\n",
       "   pessoas  mortos  feridos_leves  feridos_graves  ilesos  ignorados  feridos  \\\n",
       "0        3       0              0               1       1          1        1   \n",
       "1        2       1              0               0       1          0        0   \n",
       "2        3       1              0               0       1          2        0   \n",
       "3        2       0              0               1       0          2        1   \n",
       "4        3       0              0               0       2          1        0   \n",
       "\n",
       "   veiculos   latitude  longitude regional delegacia             uop  \n",
       "0         3 -18.482610 -39.923790  SPRF-ES  DEL04-ES  UOP02-DEL04-ES  \n",
       "1         2  -4.296033 -41.767327  SPRF-PI  DEL02-PI  UOP01-DEL02-PI  \n",
       "2         4 -13.071583 -39.961111  SPRF-BA  DEL03-BA  UOP02-DEL03-BA  \n",
       "3         3 -10.356019 -36.905522  SPRF-SE  DEL02-SE  UOP02-DEL02-SE  \n",
       "4         3 -16.179141 -54.789053  SPRF-MT  DEL02-MT  UOP01-DEL02-MT  "
      ]
     },
     "execution_count": 551,
     "metadata": {},
     "output_type": "execute_result"
    }
   ],
   "source": [
    "pd.set_option('display.max_columns', None)\n",
    "df.head()"
   ]
  },
  {
   "cell_type": "code",
   "execution_count": 552,
   "metadata": {},
   "outputs": [
    {
     "data": {
      "text/plain": [
       "Index(['id', 'data_inversa', 'dia_semana', 'horario', 'uf', 'br', 'km',\n",
       "       'municipio', 'causa_acidente', 'tipo_acidente',\n",
       "       'classificacao_acidente', 'fase_dia', 'sentido_via',\n",
       "       'condicao_metereologica', 'tipo_pista', 'tracado_via', 'uso_solo',\n",
       "       'pessoas', 'mortos', 'feridos_leves', 'feridos_graves', 'ilesos',\n",
       "       'ignorados', 'feridos', 'veiculos', 'latitude', 'longitude', 'regional',\n",
       "       'delegacia', 'uop'],\n",
       "      dtype='object')"
      ]
     },
     "execution_count": 552,
     "metadata": {},
     "output_type": "execute_result"
    }
   ],
   "source": [
    "df.columns"
   ]
  },
  {
   "cell_type": "code",
   "execution_count": 553,
   "metadata": {},
   "outputs": [
    {
     "data": {
      "text/html": [
       "<div>\n",
       "<style scoped>\n",
       "    .dataframe tbody tr th:only-of-type {\n",
       "        vertical-align: middle;\n",
       "    }\n",
       "\n",
       "    .dataframe tbody tr th {\n",
       "        vertical-align: top;\n",
       "    }\n",
       "\n",
       "    .dataframe thead th {\n",
       "        text-align: right;\n",
       "    }\n",
       "</style>\n",
       "<table border=\"1\" class=\"dataframe\">\n",
       "  <thead>\n",
       "    <tr style=\"text-align: right;\">\n",
       "      <th></th>\n",
       "      <th>id</th>\n",
       "      <th>br</th>\n",
       "      <th>pessoas</th>\n",
       "      <th>mortos</th>\n",
       "      <th>feridos_leves</th>\n",
       "      <th>feridos_graves</th>\n",
       "      <th>ilesos</th>\n",
       "      <th>ignorados</th>\n",
       "      <th>feridos</th>\n",
       "      <th>veiculos</th>\n",
       "      <th>latitude</th>\n",
       "      <th>longitude</th>\n",
       "    </tr>\n",
       "  </thead>\n",
       "  <tbody>\n",
       "    <tr>\n",
       "      <th>count</th>\n",
       "      <td>73156.000000</td>\n",
       "      <td>73156.000000</td>\n",
       "      <td>73156.000000</td>\n",
       "      <td>73156.000000</td>\n",
       "      <td>73156.000000</td>\n",
       "      <td>73156.000000</td>\n",
       "      <td>73156.000000</td>\n",
       "      <td>73156.000000</td>\n",
       "      <td>73156.000000</td>\n",
       "      <td>73156.000000</td>\n",
       "      <td>73156.000000</td>\n",
       "      <td>73156.000000</td>\n",
       "    </tr>\n",
       "    <tr>\n",
       "      <th>mean</th>\n",
       "      <td>613003.770340</td>\n",
       "      <td>209.575004</td>\n",
       "      <td>2.597162</td>\n",
       "      <td>0.084204</td>\n",
       "      <td>0.877331</td>\n",
       "      <td>0.278091</td>\n",
       "      <td>1.048103</td>\n",
       "      <td>0.395661</td>\n",
       "      <td>1.155421</td>\n",
       "      <td>1.985811</td>\n",
       "      <td>-18.810858</td>\n",
       "      <td>-46.395744</td>\n",
       "    </tr>\n",
       "    <tr>\n",
       "      <th>std</th>\n",
       "      <td>23344.408649</td>\n",
       "      <td>128.818508</td>\n",
       "      <td>2.232573</td>\n",
       "      <td>0.372804</td>\n",
       "      <td>1.126993</td>\n",
       "      <td>0.635996</td>\n",
       "      <td>1.746499</td>\n",
       "      <td>0.822872</td>\n",
       "      <td>1.253310</td>\n",
       "      <td>1.083471</td>\n",
       "      <td>7.722916</td>\n",
       "      <td>6.214783</td>\n",
       "    </tr>\n",
       "    <tr>\n",
       "      <th>min</th>\n",
       "      <td>571772.000000</td>\n",
       "      <td>0.000000</td>\n",
       "      <td>1.000000</td>\n",
       "      <td>0.000000</td>\n",
       "      <td>0.000000</td>\n",
       "      <td>0.000000</td>\n",
       "      <td>0.000000</td>\n",
       "      <td>0.000000</td>\n",
       "      <td>0.000000</td>\n",
       "      <td>1.000000</td>\n",
       "      <td>-33.680584</td>\n",
       "      <td>-72.641548</td>\n",
       "    </tr>\n",
       "    <tr>\n",
       "      <th>25%</th>\n",
       "      <td>593042.750000</td>\n",
       "      <td>101.000000</td>\n",
       "      <td>2.000000</td>\n",
       "      <td>0.000000</td>\n",
       "      <td>0.000000</td>\n",
       "      <td>0.000000</td>\n",
       "      <td>0.000000</td>\n",
       "      <td>0.000000</td>\n",
       "      <td>1.000000</td>\n",
       "      <td>1.000000</td>\n",
       "      <td>-25.103899</td>\n",
       "      <td>-50.212551</td>\n",
       "    </tr>\n",
       "    <tr>\n",
       "      <th>50%</th>\n",
       "      <td>613246.500000</td>\n",
       "      <td>158.000000</td>\n",
       "      <td>2.000000</td>\n",
       "      <td>0.000000</td>\n",
       "      <td>1.000000</td>\n",
       "      <td>0.000000</td>\n",
       "      <td>1.000000</td>\n",
       "      <td>0.000000</td>\n",
       "      <td>1.000000</td>\n",
       "      <td>2.000000</td>\n",
       "      <td>-20.411868</td>\n",
       "      <td>-47.009041</td>\n",
       "    </tr>\n",
       "    <tr>\n",
       "      <th>75%</th>\n",
       "      <td>633190.250000</td>\n",
       "      <td>324.000000</td>\n",
       "      <td>3.000000</td>\n",
       "      <td>0.000000</td>\n",
       "      <td>1.000000</td>\n",
       "      <td>0.000000</td>\n",
       "      <td>1.000000</td>\n",
       "      <td>1.000000</td>\n",
       "      <td>1.000000</td>\n",
       "      <td>2.000000</td>\n",
       "      <td>-12.588467</td>\n",
       "      <td>-42.184893</td>\n",
       "    </tr>\n",
       "    <tr>\n",
       "      <th>max</th>\n",
       "      <td>661607.000000</td>\n",
       "      <td>495.000000</td>\n",
       "      <td>93.000000</td>\n",
       "      <td>37.000000</td>\n",
       "      <td>83.000000</td>\n",
       "      <td>35.000000</td>\n",
       "      <td>78.000000</td>\n",
       "      <td>33.000000</td>\n",
       "      <td>84.000000</td>\n",
       "      <td>26.000000</td>\n",
       "      <td>4.449203</td>\n",
       "      <td>-32.406822</td>\n",
       "    </tr>\n",
       "  </tbody>\n",
       "</table>\n",
       "</div>"
      ],
      "text/plain": [
       "                  id            br       pessoas        mortos  feridos_leves  \\\n",
       "count   73156.000000  73156.000000  73156.000000  73156.000000   73156.000000   \n",
       "mean   613003.770340    209.575004      2.597162      0.084204       0.877331   \n",
       "std     23344.408649    128.818508      2.232573      0.372804       1.126993   \n",
       "min    571772.000000      0.000000      1.000000      0.000000       0.000000   \n",
       "25%    593042.750000    101.000000      2.000000      0.000000       0.000000   \n",
       "50%    613246.500000    158.000000      2.000000      0.000000       1.000000   \n",
       "75%    633190.250000    324.000000      3.000000      0.000000       1.000000   \n",
       "max    661607.000000    495.000000     93.000000     37.000000      83.000000   \n",
       "\n",
       "       feridos_graves        ilesos     ignorados       feridos      veiculos  \\\n",
       "count    73156.000000  73156.000000  73156.000000  73156.000000  73156.000000   \n",
       "mean         0.278091      1.048103      0.395661      1.155421      1.985811   \n",
       "std          0.635996      1.746499      0.822872      1.253310      1.083471   \n",
       "min          0.000000      0.000000      0.000000      0.000000      1.000000   \n",
       "25%          0.000000      0.000000      0.000000      1.000000      1.000000   \n",
       "50%          0.000000      1.000000      0.000000      1.000000      2.000000   \n",
       "75%          0.000000      1.000000      1.000000      1.000000      2.000000   \n",
       "max         35.000000     78.000000     33.000000     84.000000     26.000000   \n",
       "\n",
       "           latitude     longitude  \n",
       "count  73156.000000  73156.000000  \n",
       "mean     -18.810858    -46.395744  \n",
       "std        7.722916      6.214783  \n",
       "min      -33.680584    -72.641548  \n",
       "25%      -25.103899    -50.212551  \n",
       "50%      -20.411868    -47.009041  \n",
       "75%      -12.588467    -42.184893  \n",
       "max        4.449203    -32.406822  "
      ]
     },
     "execution_count": 553,
     "metadata": {},
     "output_type": "execute_result"
    }
   ],
   "source": [
    "df.describe()"
   ]
  },
  {
   "cell_type": "code",
   "execution_count": 554,
   "metadata": {},
   "outputs": [
    {
     "data": {
      "text/plain": [
       "id                                              571789.0\n",
       "data_inversa                                  2024-01-01\n",
       "dia_semana                                 segunda-feira\n",
       "horario                                         03:56:00\n",
       "uf                                                    ES\n",
       "br                                                   101\n",
       "km                                                    38\n",
       "municipio                             CONCEICAO DA BARRA\n",
       "causa_acidente                    Ultrapassagem Indevida\n",
       "tipo_acidente             Colisão lateral sentido oposto\n",
       "classificacao_acidente                               NaN\n",
       "fase_dia                                     Plena Noite\n",
       "sentido_via                                    Crescente\n",
       "condicao_metereologica                         Céu Claro\n",
       "tipo_pista                                       Simples\n",
       "Name: 0, dtype: object"
      ]
     },
     "execution_count": 554,
     "metadata": {},
     "output_type": "execute_result"
    }
   ],
   "source": [
    "df.loc[0][0:15]"
   ]
  },
  {
   "cell_type": "markdown",
   "metadata": {},
   "source": [
    "Diversos erros nos dados podem ser encontrados, como formatação e colunas desnecessárias"
   ]
  },
  {
   "cell_type": "markdown",
   "metadata": {},
   "source": [
    "#### **Escolhendo colunas para o modelo**"
   ]
  },
  {
   "cell_type": "code",
   "execution_count": 555,
   "metadata": {},
   "outputs": [],
   "source": [
    "df = df[['dia_semana', 'horario', 'uf', 'br', 'causa_acidente', 'tipo_acidente', 'tipo_pista', 'uso_solo', 'pessoas', 'mortos', 'feridos_leves', 'feridos_graves', 'ilesos', 'feridos']]"
   ]
  },
  {
   "cell_type": "code",
   "execution_count": 556,
   "metadata": {},
   "outputs": [
    {
     "name": "stdout",
     "output_type": "stream",
     "text": [
      "(73156, 14)\n"
     ]
    }
   ],
   "source": [
    "print(df.shape)"
   ]
  },
  {
   "cell_type": "markdown",
   "metadata": {},
   "source": [
    "**Verificando se há valores nulos**"
   ]
  },
  {
   "cell_type": "code",
   "execution_count": 557,
   "metadata": {},
   "outputs": [
    {
     "data": {
      "text/plain": [
       "Series([], dtype: int64)"
      ]
     },
     "execution_count": 557,
     "metadata": {},
     "output_type": "execute_result"
    }
   ],
   "source": [
    "valores_vazios = df.isna().sum()\n",
    "valores_vazios[valores_vazios > 0]"
   ]
  },
  {
   "cell_type": "markdown",
   "metadata": {},
   "source": [
    "### **Tratando valores vazios**"
   ]
  },
  {
   "cell_type": "markdown",
   "metadata": {},
   "source": [
    "Tipo Acidente"
   ]
  },
  {
   "cell_type": "code",
   "execution_count": 558,
   "metadata": {},
   "outputs": [
    {
     "data": {
      "text/plain": [
       "tipo_acidente\n",
       "Colisão traseira                  13960\n",
       "Saída de leito carroçável         10827\n",
       "Colisão transversal                9385\n",
       "Colisão lateral mesmo sentido      7902\n",
       "Tombamento                         6442\n",
       "Colisão com objeto                 5118\n",
       "Colisão frontal                    4862\n",
       "Queda de ocupante de veículo       3349\n",
       "Atropelamento de Pedestre          3167\n",
       "Colisão lateral sentido oposto     2028\n",
       "Incêndio                           1717\n",
       "Capotamento                        1469\n",
       "Atropelamento de Animal            1285\n",
       "Engavetamento                      1224\n",
       "Eventos atípicos                    299\n",
       "Derramamento de carga               110\n",
       "Sinistro pessoal de trânsito         12\n",
       "Name: count, dtype: int64"
      ]
     },
     "execution_count": 558,
     "metadata": {},
     "output_type": "execute_result"
    }
   ],
   "source": [
    "df['tipo_acidente'].value_counts()"
   ]
  },
  {
   "cell_type": "code",
   "execution_count": 559,
   "metadata": {},
   "outputs": [],
   "source": [
    "#Atribuindo a moda para o valor faltante\n",
    "df.fillna({\n",
    "    'tipo_acidente' : 'Colisão traseira'\n",
    "}, inplace=True)"
   ]
  },
  {
   "cell_type": "code",
   "execution_count": 560,
   "metadata": {},
   "outputs": [
    {
     "data": {
      "text/plain": [
       "dia_semana        object\n",
       "horario           object\n",
       "uf                object\n",
       "br                 int64\n",
       "causa_acidente    object\n",
       "tipo_acidente     object\n",
       "tipo_pista        object\n",
       "uso_solo          object\n",
       "pessoas            int64\n",
       "mortos             int64\n",
       "feridos_leves      int64\n",
       "feridos_graves     int64\n",
       "ilesos             int64\n",
       "feridos            int64\n",
       "dtype: object"
      ]
     },
     "execution_count": 560,
     "metadata": {},
     "output_type": "execute_result"
    }
   ],
   "source": [
    "df.dtypes[:20]"
   ]
  },
  {
   "cell_type": "markdown",
   "metadata": {},
   "source": [
    "O tipo object significa que pode haver dois ou mais tipos de dados misturados"
   ]
  },
  {
   "cell_type": "markdown",
   "metadata": {},
   "source": [
    "***Formatando os tipos de dados***"
   ]
  },
  {
   "cell_type": "code",
   "execution_count": 561,
   "metadata": {},
   "outputs": [
    {
     "data": {
      "text/plain": [
       "horario\n",
       "19:00:00    1117\n",
       "18:00:00    1022\n",
       "18:30:00     909\n",
       "17:00:00     856\n",
       "08:00:00     823\n",
       "            ... \n",
       "02:06:00       1\n",
       "00:58:00       1\n",
       "03:01:00       1\n",
       "06:33:00       1\n",
       "02:07:00       1\n",
       "Name: count, Length: 1415, dtype: int64"
      ]
     },
     "execution_count": 561,
     "metadata": {},
     "output_type": "execute_result"
    }
   ],
   "source": [
    "# Observando o formato dos dados\n",
    "df['horario'].value_counts()"
   ]
  },
  {
   "cell_type": "markdown",
   "metadata": {},
   "source": [
    "**Coluna uf**"
   ]
  },
  {
   "cell_type": "code",
   "execution_count": 562,
   "metadata": {},
   "outputs": [
    {
     "data": {
      "text/plain": [
       "uf\n",
       "MG    9296\n",
       "SC    8381\n",
       "PR    7576\n",
       "RJ    6389\n",
       "RS    5206\n",
       "SP    4883\n",
       "BA    4151\n",
       "GO    3305\n",
       "PE    3230\n",
       "MT    2554\n",
       "ES    2395\n",
       "PB    1920\n",
       "MS    1803\n",
       "RN    1606\n",
       "PI    1520\n",
       "CE    1500\n",
       "RO    1483\n",
       "MA    1138\n",
       "DF    1056\n",
       "PA     970\n",
       "TO     735\n",
       "AL     712\n",
       "SE     597\n",
       "AC     287\n",
       "AM     169\n",
       "AP     159\n",
       "RR     135\n",
       "Name: count, dtype: int64"
      ]
     },
     "execution_count": 562,
     "metadata": {},
     "output_type": "execute_result"
    }
   ],
   "source": [
    "df['uf'].value_counts()"
   ]
  },
  {
   "cell_type": "code",
   "execution_count": 563,
   "metadata": {},
   "outputs": [],
   "source": [
    "df['uf'] = df['uf'].astype(str)"
   ]
  },
  {
   "cell_type": "code",
   "execution_count": 564,
   "metadata": {},
   "outputs": [
    {
     "data": {
      "text/plain": [
       "<Axes: ylabel='dia_semana'>"
      ]
     },
     "execution_count": 564,
     "metadata": {},
     "output_type": "execute_result"
    },
    {
     "data": {
      "image/png": "[encoded data removed]",
      "text/plain": [
       "<Figure size 640x480 with 1 Axes>"
      ]
     },
     "metadata": {},
     "output_type": "display_data"
    }
   ],
   "source": [
    "df['dia_semana'].value_counts(ascending=True).plot(kind=\"barh\")"
   ]
  },
  {
   "cell_type": "code",
   "execution_count": 565,
   "metadata": {},
   "outputs": [],
   "source": [
    "df['dia_semana'] = df['dia_semana'].astype(str)"
   ]
  },
  {
   "cell_type": "markdown",
   "metadata": {},
   "source": [
    "**Coluna BR**"
   ]
  },
  {
   "cell_type": "code",
   "execution_count": 566,
   "metadata": {},
   "outputs": [],
   "source": [
    "# Convertendo para string\n",
    "\n",
    "df['br'] = 'BR-' + df['br'].astype(int).astype(str)"
   ]
  },
  {
   "cell_type": "code",
   "execution_count": 567,
   "metadata": {},
   "outputs": [
    {
     "data": {
      "image/png": "[encoded data removed]",
      "text/plain": [
       "<Figure size 1200x600 with 2 Axes>"
      ]
     },
     "metadata": {},
     "output_type": "display_data"
    }
   ],
   "source": [
    "fig, axs = plt.subplots(1, 2, figsize=(12, 6))\n",
    "\n",
    "df['br'].value_counts(ascending=True)[df[\"br\"].unique().shape[0] - 10:].plot(kind=\"barh\", ax=axs[0])\n",
    "axs[0].set_title('Mais Comuns')\n",
    "\n",
    "# Gráfico dos últimos 10 registros\n",
    "df['br'].value_counts(ascending=True)[:10].plot(kind=\"barh\", ax=axs[1])\n",
    "axs[1].set_title('Menos Comuns')\n",
    "\n",
    "plt.tight_layout()\n",
    "plt.show()"
   ]
  },
  {
   "cell_type": "markdown",
   "metadata": {},
   "source": [
    "**Coluna Causa_acidente**"
   ]
  },
  {
   "cell_type": "code",
   "execution_count": 568,
   "metadata": {},
   "outputs": [
    {
     "data": {
      "text/plain": [
       "causa_acidente\n",
       "Reação tardia ou ineficiente do condutor                     10920\n",
       "Ausência de reação do condutor                               10664\n",
       "Acessar a via sem observar a presença dos outros veículos     6958\n",
       "Condutor deixou de manter distância do veículo da frente      4460\n",
       "Velocidade Incompatível                                       4347\n",
       "                                                             ...  \n",
       "Restrição de visibilidade em curvas verticais                    7\n",
       "Faróis desregulados                                              5\n",
       "Sistema de drenagem ineficiente                                  4\n",
       "Sinalização encoberta                                            3\n",
       "Redutor de velocidade em desacordo                               3\n",
       "Name: count, Length: 69, dtype: int64"
      ]
     },
     "execution_count": 568,
     "metadata": {},
     "output_type": "execute_result"
    }
   ],
   "source": [
    "df['causa_acidente'].value_counts()"
   ]
  },
  {
   "cell_type": "code",
   "execution_count": 569,
   "metadata": {},
   "outputs": [
    {
     "data": {
      "text/plain": [
       "tipo_pista\n",
       "Simples     35287\n",
       "Dupla       30730\n",
       "Múltipla     7139\n",
       "Name: count, dtype: int64"
      ]
     },
     "execution_count": 569,
     "metadata": {},
     "output_type": "execute_result"
    }
   ],
   "source": [
    "df['tipo_pista'].value_counts()"
   ]
  },
  {
   "cell_type": "code",
   "execution_count": 570,
   "metadata": {},
   "outputs": [
    {
     "data": {
      "text/plain": [
       "<Axes: ylabel='count'>"
      ]
     },
     "execution_count": 570,
     "metadata": {},
     "output_type": "execute_result"
    },
    {
     "data": {
      "image/png": "[encoded data removed]",
      "text/plain": [
       "<Figure size 640x480 with 1 Axes>"
      ]
     },
     "metadata": {},
     "output_type": "display_data"
    }
   ],
   "source": [
    "df['uso_solo'].value_counts(ascending=True).plot(kind=\"pie\", colors=[\"orange\", \"teal\"])"
   ]
  },
  {
   "cell_type": "code",
   "execution_count": 571,
   "metadata": {},
   "outputs": [],
   "source": [
    "# Substituindo o valor 'sim' por urbano e 'Não' por rural\n",
    "# Essas informações estão disponíveis no dicionário de dados da PRF\n",
    "\n",
    "df['uso_solo'] = df['uso_solo'].replace({'Sim': 'Urbano', 'Não': 'Rural'})"
   ]
  },
  {
   "cell_type": "code",
   "execution_count": 572,
   "metadata": {},
   "outputs": [],
   "source": [
    "df['uso_solo'] = df['uso_solo'].astype(str)"
   ]
  },
  {
   "cell_type": "code",
   "execution_count": 573,
   "metadata": {},
   "outputs": [
    {
     "data": {
      "text/html": [
       "<div>\n",
       "<style scoped>\n",
       "    .dataframe tbody tr th:only-of-type {\n",
       "        vertical-align: middle;\n",
       "    }\n",
       "\n",
       "    .dataframe tbody tr th {\n",
       "        vertical-align: top;\n",
       "    }\n",
       "\n",
       "    .dataframe thead th {\n",
       "        text-align: right;\n",
       "    }\n",
       "</style>\n",
       "<table border=\"1\" class=\"dataframe\">\n",
       "  <thead>\n",
       "    <tr style=\"text-align: right;\">\n",
       "      <th></th>\n",
       "      <th>dia_semana</th>\n",
       "      <th>horario</th>\n",
       "      <th>uf</th>\n",
       "      <th>br</th>\n",
       "      <th>causa_acidente</th>\n",
       "      <th>tipo_acidente</th>\n",
       "      <th>tipo_pista</th>\n",
       "      <th>uso_solo</th>\n",
       "      <th>pessoas</th>\n",
       "      <th>mortos</th>\n",
       "      <th>feridos_leves</th>\n",
       "      <th>feridos_graves</th>\n",
       "      <th>ilesos</th>\n",
       "      <th>feridos</th>\n",
       "    </tr>\n",
       "  </thead>\n",
       "  <tbody>\n",
       "    <tr>\n",
       "      <th>57</th>\n",
       "      <td>quarta-feira</td>\n",
       "      <td>01:30:00</td>\n",
       "      <td>MA</td>\n",
       "      <td>BR-222</td>\n",
       "      <td>Ausência de reação do condutor</td>\n",
       "      <td>Saída de leito carroçável</td>\n",
       "      <td>Simples</td>\n",
       "      <td>Rural</td>\n",
       "      <td>2</td>\n",
       "      <td>0</td>\n",
       "      <td>0</td>\n",
       "      <td>0</td>\n",
       "      <td>0</td>\n",
       "      <td>0</td>\n",
       "    </tr>\n",
       "    <tr>\n",
       "      <th>555</th>\n",
       "      <td>segunda-feira</td>\n",
       "      <td>09:00:00</td>\n",
       "      <td>BA</td>\n",
       "      <td>BR-110</td>\n",
       "      <td>Reação tardia ou ineficiente do condutor</td>\n",
       "      <td>Saída de leito carroçável</td>\n",
       "      <td>Simples</td>\n",
       "      <td>Urbano</td>\n",
       "      <td>1</td>\n",
       "      <td>0</td>\n",
       "      <td>0</td>\n",
       "      <td>0</td>\n",
       "      <td>0</td>\n",
       "      <td>0</td>\n",
       "    </tr>\n",
       "    <tr>\n",
       "      <th>1105</th>\n",
       "      <td>sábado</td>\n",
       "      <td>04:50:00</td>\n",
       "      <td>PE</td>\n",
       "      <td>BR-232</td>\n",
       "      <td>Condutor deixou de manter distância do veículo...</td>\n",
       "      <td>Incêndio</td>\n",
       "      <td>Dupla</td>\n",
       "      <td>Rural</td>\n",
       "      <td>2</td>\n",
       "      <td>0</td>\n",
       "      <td>0</td>\n",
       "      <td>0</td>\n",
       "      <td>0</td>\n",
       "      <td>0</td>\n",
       "    </tr>\n",
       "    <tr>\n",
       "      <th>1297</th>\n",
       "      <td>quarta-feira</td>\n",
       "      <td>11:51:00</td>\n",
       "      <td>PE</td>\n",
       "      <td>BR-101</td>\n",
       "      <td>Ausência de reação do condutor</td>\n",
       "      <td>Colisão com objeto</td>\n",
       "      <td>Dupla</td>\n",
       "      <td>Urbano</td>\n",
       "      <td>1</td>\n",
       "      <td>0</td>\n",
       "      <td>0</td>\n",
       "      <td>0</td>\n",
       "      <td>0</td>\n",
       "      <td>0</td>\n",
       "    </tr>\n",
       "    <tr>\n",
       "      <th>2046</th>\n",
       "      <td>sábado</td>\n",
       "      <td>18:20:00</td>\n",
       "      <td>SP</td>\n",
       "      <td>BR-116</td>\n",
       "      <td>Ausência de reação do condutor</td>\n",
       "      <td>Colisão traseira</td>\n",
       "      <td>Múltipla</td>\n",
       "      <td>Urbano</td>\n",
       "      <td>2</td>\n",
       "      <td>0</td>\n",
       "      <td>0</td>\n",
       "      <td>0</td>\n",
       "      <td>0</td>\n",
       "      <td>0</td>\n",
       "    </tr>\n",
       "    <tr>\n",
       "      <th>...</th>\n",
       "      <td>...</td>\n",
       "      <td>...</td>\n",
       "      <td>...</td>\n",
       "      <td>...</td>\n",
       "      <td>...</td>\n",
       "      <td>...</td>\n",
       "      <td>...</td>\n",
       "      <td>...</td>\n",
       "      <td>...</td>\n",
       "      <td>...</td>\n",
       "      <td>...</td>\n",
       "      <td>...</td>\n",
       "      <td>...</td>\n",
       "      <td>...</td>\n",
       "    </tr>\n",
       "    <tr>\n",
       "      <th>72818</th>\n",
       "      <td>terça-feira</td>\n",
       "      <td>10:25:00</td>\n",
       "      <td>PR</td>\n",
       "      <td>BR-277</td>\n",
       "      <td>Avarias e/ou desgaste excessivo no pneu</td>\n",
       "      <td>Tombamento</td>\n",
       "      <td>Simples</td>\n",
       "      <td>Rural</td>\n",
       "      <td>2</td>\n",
       "      <td>0</td>\n",
       "      <td>0</td>\n",
       "      <td>0</td>\n",
       "      <td>0</td>\n",
       "      <td>0</td>\n",
       "    </tr>\n",
       "    <tr>\n",
       "      <th>72849</th>\n",
       "      <td>terça-feira</td>\n",
       "      <td>08:00:00</td>\n",
       "      <td>BA</td>\n",
       "      <td>BR-242</td>\n",
       "      <td>Reação tardia ou ineficiente do condutor</td>\n",
       "      <td>Colisão traseira</td>\n",
       "      <td>Simples</td>\n",
       "      <td>Rural</td>\n",
       "      <td>2</td>\n",
       "      <td>0</td>\n",
       "      <td>0</td>\n",
       "      <td>0</td>\n",
       "      <td>0</td>\n",
       "      <td>0</td>\n",
       "    </tr>\n",
       "    <tr>\n",
       "      <th>72893</th>\n",
       "      <td>terça-feira</td>\n",
       "      <td>21:40:00</td>\n",
       "      <td>MT</td>\n",
       "      <td>BR-174</td>\n",
       "      <td>Reação tardia ou ineficiente do condutor</td>\n",
       "      <td>Saída de leito carroçável</td>\n",
       "      <td>Simples</td>\n",
       "      <td>Rural</td>\n",
       "      <td>1</td>\n",
       "      <td>0</td>\n",
       "      <td>0</td>\n",
       "      <td>0</td>\n",
       "      <td>0</td>\n",
       "      <td>0</td>\n",
       "    </tr>\n",
       "    <tr>\n",
       "      <th>72938</th>\n",
       "      <td>domingo</td>\n",
       "      <td>07:30:00</td>\n",
       "      <td>MG</td>\n",
       "      <td>BR-381</td>\n",
       "      <td>Curva acentuada</td>\n",
       "      <td>Capotamento</td>\n",
       "      <td>Dupla</td>\n",
       "      <td>Rural</td>\n",
       "      <td>1</td>\n",
       "      <td>0</td>\n",
       "      <td>0</td>\n",
       "      <td>0</td>\n",
       "      <td>0</td>\n",
       "      <td>0</td>\n",
       "    </tr>\n",
       "    <tr>\n",
       "      <th>72967</th>\n",
       "      <td>quinta-feira</td>\n",
       "      <td>19:00:00</td>\n",
       "      <td>AP</td>\n",
       "      <td>BR-156</td>\n",
       "      <td>Reação tardia ou ineficiente do condutor</td>\n",
       "      <td>Capotamento</td>\n",
       "      <td>Simples</td>\n",
       "      <td>Rural</td>\n",
       "      <td>1</td>\n",
       "      <td>0</td>\n",
       "      <td>0</td>\n",
       "      <td>0</td>\n",
       "      <td>0</td>\n",
       "      <td>0</td>\n",
       "    </tr>\n",
       "  </tbody>\n",
       "</table>\n",
       "<p>1633 rows × 14 columns</p>\n",
       "</div>"
      ],
      "text/plain": [
       "          dia_semana   horario  uf      br  \\\n",
       "57      quarta-feira  01:30:00  MA  BR-222   \n",
       "555    segunda-feira  09:00:00  BA  BR-110   \n",
       "1105          sábado  04:50:00  PE  BR-232   \n",
       "1297    quarta-feira  11:51:00  PE  BR-101   \n",
       "2046          sábado  18:20:00  SP  BR-116   \n",
       "...              ...       ...  ..     ...   \n",
       "72818    terça-feira  10:25:00  PR  BR-277   \n",
       "72849    terça-feira  08:00:00  BA  BR-242   \n",
       "72893    terça-feira  21:40:00  MT  BR-174   \n",
       "72938        domingo  07:30:00  MG  BR-381   \n",
       "72967   quinta-feira  19:00:00  AP  BR-156   \n",
       "\n",
       "                                          causa_acidente  \\\n",
       "57                        Ausência de reação do condutor   \n",
       "555             Reação tardia ou ineficiente do condutor   \n",
       "1105   Condutor deixou de manter distância do veículo...   \n",
       "1297                      Ausência de reação do condutor   \n",
       "2046                      Ausência de reação do condutor   \n",
       "...                                                  ...   \n",
       "72818            Avarias e/ou desgaste excessivo no pneu   \n",
       "72849           Reação tardia ou ineficiente do condutor   \n",
       "72893           Reação tardia ou ineficiente do condutor   \n",
       "72938                                    Curva acentuada   \n",
       "72967           Reação tardia ou ineficiente do condutor   \n",
       "\n",
       "                   tipo_acidente tipo_pista uso_solo  pessoas  mortos  \\\n",
       "57     Saída de leito carroçável    Simples    Rural        2       0   \n",
       "555    Saída de leito carroçável    Simples   Urbano        1       0   \n",
       "1105                    Incêndio      Dupla    Rural        2       0   \n",
       "1297          Colisão com objeto      Dupla   Urbano        1       0   \n",
       "2046            Colisão traseira   Múltipla   Urbano        2       0   \n",
       "...                          ...        ...      ...      ...     ...   \n",
       "72818                 Tombamento    Simples    Rural        2       0   \n",
       "72849           Colisão traseira    Simples    Rural        2       0   \n",
       "72893  Saída de leito carroçável    Simples    Rural        1       0   \n",
       "72938                Capotamento      Dupla    Rural        1       0   \n",
       "72967                Capotamento    Simples    Rural        1       0   \n",
       "\n",
       "       feridos_leves  feridos_graves  ilesos  feridos  \n",
       "57                 0               0       0        0  \n",
       "555                0               0       0        0  \n",
       "1105               0               0       0        0  \n",
       "1297               0               0       0        0  \n",
       "2046               0               0       0        0  \n",
       "...              ...             ...     ...      ...  \n",
       "72818              0               0       0        0  \n",
       "72849              0               0       0        0  \n",
       "72893              0               0       0        0  \n",
       "72938              0               0       0        0  \n",
       "72967              0               0       0        0  \n",
       "\n",
       "[1633 rows x 14 columns]"
      ]
     },
     "execution_count": 573,
     "metadata": {},
     "output_type": "execute_result"
    }
   ],
   "source": [
    "# Observando os faltantes\n",
    "\n",
    "faltantes = df.loc[(df['ilesos'] == 0) & (df['feridos_leves'] == 0) & (df['feridos_graves'] == 0) & (df['mortos'] == 0)]\n",
    "faltantes"
   ]
  },
  {
   "cell_type": "markdown",
   "metadata": {},
   "source": [
    "**Adicionando a coluna região**"
   ]
  },
  {
   "cell_type": "code",
   "execution_count": 574,
   "metadata": {},
   "outputs": [],
   "source": [
    "def adicionar_coluna_regiao(df):\n",
    "    # Dicionário de mapeamento de UF para região\n",
    "    regiao_por_uf = {\n",
    "        'AC': 'Norte', 'AL': 'Nordeste', 'AP': 'Norte', 'AM': 'Norte',\n",
    "        'BA': 'Nordeste', 'CE': 'Nordeste', 'DF': 'Centro-Oeste', 'ES': 'Sudeste',\n",
    "        'GO': 'Centro-Oeste', 'MA': 'Nordeste', 'MT': 'Centro-Oeste', 'MS': 'Centro-Oeste',\n",
    "        'MG': 'Sudeste', 'PA': 'Norte', 'PB': 'Nordeste', 'PR': 'Sul', 'PE': 'Nordeste',\n",
    "        'PI': 'Nordeste', 'RJ': 'Sudeste', 'RN': 'Nordeste', 'RS': 'Sul', 'RO': 'Norte',\n",
    "        'RR': 'Norte', 'SC': 'Sul', 'SP': 'Sudeste', 'SE': 'Nordeste', 'TO': 'Norte'\n",
    "    }\n",
    "    \n",
    "    # Adicionando a coluna 'região' com base na coluna 'uf'\n",
    "    df['regiao'] = df['uf'].map(regiao_por_uf)\n",
    "    \n",
    "    return df\n",
    "\n",
    "df = adicionar_coluna_regiao(df)"
   ]
  },
  {
   "cell_type": "markdown",
   "metadata": {},
   "source": [
    "Dividindo e salvando o arquivo"
   ]
  },
  {
   "cell_type": "code",
   "execution_count": 575,
   "metadata": {},
   "outputs": [],
   "source": [
    "df.to_csv('../data/envolvidos.txt', index=False, sep=',')"
   ]
  }
 ],
 "metadata": {
  "kernelspec": {
   "display_name": "a3-ia",
   "language": "python",
   "name": "python3"
  },
  "language_info": {
   "codemirror_mode": {
    "name": "ipython",
    "version": 3
   },
   "file_extension": ".py",
   "mimetype": "text/x-python",
   "name": "python",
   "nbconvert_exporter": "python",
   "pygments_lexer": "ipython3",
   "version": "3.13.2"
  }
 },
 "nbformat": 4,
 "nbformat_minor": 2
}
